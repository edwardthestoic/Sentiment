{
 "cells": [
  {
   "cell_type": "code",
   "execution_count": 1,
   "id": "265ec999-584c-4c5e-a515-9cf67a0a26dd",
   "metadata": {},
   "outputs": [],
   "source": [
    "#NN keras model\n",
    "\n",
    "import tensorflow as tf\n",
    "from tensorflow import keras\n",
    "from tensorflow.keras import layers\n",
    "from tensorflow.keras.preprocessing.text import Tokenizer\n",
    "from tensorflow.keras.preprocessing.sequence import pad_sequences\n",
    "from tensorflow.keras import regularizers\n",
    "from tensorflow.keras.models import Sequential\n",
    "from tensorflow.keras import backend as K\n",
    "from tensorflow.keras.callbacks import ModelCheckpoint, EarlyStopping\n",
    "from tensorflow.keras.layers import Embedding\n",
    "import re\n",
    "import gensim\n",
    "from nltk.tokenize.treebank import TreebankWordDetokenizer"
   ]
  },
  {
   "cell_type": "code",
   "execution_count": 2,
   "id": "517bf655-0dd9-4620-8394-2d621725c0d8",
   "metadata": {},
   "outputs": [],
   "source": [
    "import numpy as np\n",
    "import statsmodels.api as sm\n",
    "import pylab\n",
    "import scipy.stats as stats"
   ]
  },
  {
   "cell_type": "code",
   "execution_count": 3,
   "id": "75e1ebd6-a743-4b04-9763-d9ea030ec637",
   "metadata": {},
   "outputs": [],
   "source": [
    "#load data\n",
    "# C:\\Users\\Kurt\\Desktop\\COD\\wgu\\Capstone\n",
    "sent_list = []\n",
    "file1 = 'C:/Users/Kurt/Desktop/COD/wgu/Capstone/Tweets.csv/Tweets.csv'\n",
    "# file1 = 'C:/Users/Kurt/Desktop/COD/wgu/D213/sentiment labelled sentences/sentiment labelled sentences/amazon_cells_labelled.txt'\n",
    "# file2 = 'C:/Users/Kurt/Desktop/COD/wgu/D213/sentiment labelled sentences/sentiment labelled sentences/yelp_labelled.txt'\n",
    "# file3 = 'C:/Users/Kurt/Desktop/COD/wgu/D213/sentiment labelled sentences/sentiment labelled sentences/imdb_labelled.txt'\n",
    "# with open(file1,'r') as f:\n",
    "#     sent_list.append(f.readline())"
   ]
  },
  {
   "cell_type": "code",
   "execution_count": 4,
   "id": "be9972e5-1573-4b32-9289-459927c8b7d4",
   "metadata": {},
   "outputs": [],
   "source": [
    "# sent_list[0]\n",
    "import pandas as pd\n",
    "df = pd.read_csv(file1)\n",
    "# df1 = pd.read_csv(file1, sep=\"\\t\", header=None)\n",
    "# df1.columns=['sent','y']\n",
    "# df2 = pd.read_csv(file2, sep=\"\\t\", header=None)\n",
    "# df2.columns=['sent','y']\n",
    "# df3 = pd.read_csv(file3, sep=\"\\t\", header=None)#748 volume\n",
    "# df3.columns=['sent','y']\n",
    "\n",
    "# df=pd.concat([df1,df2,df3],axis=0,ignore_index=True)"
   ]
  },
  {
   "cell_type": "code",
   "execution_count": 5,
   "id": "e312a02c-563b-46dc-a7fb-865d73ad1c44",
   "metadata": {},
   "outputs": [
    {
     "data": {
      "text/html": [
       "<div>\n",
       "<style scoped>\n",
       "    .dataframe tbody tr th:only-of-type {\n",
       "        vertical-align: middle;\n",
       "    }\n",
       "\n",
       "    .dataframe tbody tr th {\n",
       "        vertical-align: top;\n",
       "    }\n",
       "\n",
       "    .dataframe thead th {\n",
       "        text-align: right;\n",
       "    }\n",
       "</style>\n",
       "<table border=\"1\" class=\"dataframe\">\n",
       "  <thead>\n",
       "    <tr style=\"text-align: right;\">\n",
       "      <th></th>\n",
       "      <th>tweet_id</th>\n",
       "      <th>airline_sentiment_confidence</th>\n",
       "      <th>negativereason_confidence</th>\n",
       "      <th>retweet_count</th>\n",
       "    </tr>\n",
       "  </thead>\n",
       "  <tbody>\n",
       "    <tr>\n",
       "      <th>count</th>\n",
       "      <td>1.464000e+04</td>\n",
       "      <td>14640.000000</td>\n",
       "      <td>10522.000000</td>\n",
       "      <td>14640.000000</td>\n",
       "    </tr>\n",
       "    <tr>\n",
       "      <th>mean</th>\n",
       "      <td>5.692184e+17</td>\n",
       "      <td>0.900169</td>\n",
       "      <td>0.638298</td>\n",
       "      <td>0.082650</td>\n",
       "    </tr>\n",
       "    <tr>\n",
       "      <th>std</th>\n",
       "      <td>7.791112e+14</td>\n",
       "      <td>0.162830</td>\n",
       "      <td>0.330440</td>\n",
       "      <td>0.745778</td>\n",
       "    </tr>\n",
       "    <tr>\n",
       "      <th>min</th>\n",
       "      <td>5.675883e+17</td>\n",
       "      <td>0.335000</td>\n",
       "      <td>0.000000</td>\n",
       "      <td>0.000000</td>\n",
       "    </tr>\n",
       "    <tr>\n",
       "      <th>25%</th>\n",
       "      <td>5.685592e+17</td>\n",
       "      <td>0.692300</td>\n",
       "      <td>0.360600</td>\n",
       "      <td>0.000000</td>\n",
       "    </tr>\n",
       "    <tr>\n",
       "      <th>50%</th>\n",
       "      <td>5.694779e+17</td>\n",
       "      <td>1.000000</td>\n",
       "      <td>0.670600</td>\n",
       "      <td>0.000000</td>\n",
       "    </tr>\n",
       "    <tr>\n",
       "      <th>75%</th>\n",
       "      <td>5.698905e+17</td>\n",
       "      <td>1.000000</td>\n",
       "      <td>1.000000</td>\n",
       "      <td>0.000000</td>\n",
       "    </tr>\n",
       "    <tr>\n",
       "      <th>max</th>\n",
       "      <td>5.703106e+17</td>\n",
       "      <td>1.000000</td>\n",
       "      <td>1.000000</td>\n",
       "      <td>44.000000</td>\n",
       "    </tr>\n",
       "  </tbody>\n",
       "</table>\n",
       "</div>"
      ],
      "text/plain": [
       "           tweet_id  airline_sentiment_confidence  negativereason_confidence  \\\n",
       "count  1.464000e+04                  14640.000000               10522.000000   \n",
       "mean   5.692184e+17                      0.900169                   0.638298   \n",
       "std    7.791112e+14                      0.162830                   0.330440   \n",
       "min    5.675883e+17                      0.335000                   0.000000   \n",
       "25%    5.685592e+17                      0.692300                   0.360600   \n",
       "50%    5.694779e+17                      1.000000                   0.670600   \n",
       "75%    5.698905e+17                      1.000000                   1.000000   \n",
       "max    5.703106e+17                      1.000000                   1.000000   \n",
       "\n",
       "       retweet_count  \n",
       "count   14640.000000  \n",
       "mean        0.082650  \n",
       "std         0.745778  \n",
       "min         0.000000  \n",
       "25%         0.000000  \n",
       "50%         0.000000  \n",
       "75%         0.000000  \n",
       "max        44.000000  "
      ]
     },
     "execution_count": 5,
     "metadata": {},
     "output_type": "execute_result"
    }
   ],
   "source": [
    "df.describe()\n",
    "# df3.describe()"
   ]
  },
  {
   "cell_type": "code",
   "execution_count": 6,
   "id": "427c2f3f-a0cb-4e1b-849b-bc7fd9753852",
   "metadata": {},
   "outputs": [
    {
     "name": "stdout",
     "output_type": "stream",
     "text": [
      "<class 'pandas.core.frame.DataFrame'>\n",
      "RangeIndex: 14640 entries, 0 to 14639\n",
      "Data columns (total 15 columns):\n",
      " #   Column                        Non-Null Count  Dtype  \n",
      "---  ------                        --------------  -----  \n",
      " 0   tweet_id                      14640 non-null  int64  \n",
      " 1   airline_sentiment             14640 non-null  object \n",
      " 2   airline_sentiment_confidence  14640 non-null  float64\n",
      " 3   negativereason                9178 non-null   object \n",
      " 4   negativereason_confidence     10522 non-null  float64\n",
      " 5   airline                       14640 non-null  object \n",
      " 6   airline_sentiment_gold        40 non-null     object \n",
      " 7   name                          14640 non-null  object \n",
      " 8   negativereason_gold           32 non-null     object \n",
      " 9   retweet_count                 14640 non-null  int64  \n",
      " 10  text                          14640 non-null  object \n",
      " 11  tweet_coord                   1019 non-null   object \n",
      " 12  tweet_created                 14640 non-null  object \n",
      " 13  tweet_location                9907 non-null   object \n",
      " 14  user_timezone                 9820 non-null   object \n",
      "dtypes: float64(2), int64(2), object(11)\n",
      "memory usage: 1.7+ MB\n"
     ]
    }
   ],
   "source": [
    "df.info()"
   ]
  },
  {
   "cell_type": "code",
   "execution_count": 7,
   "id": "57a9c81d-dd39-4eaf-9b0f-43d7d24238dc",
   "metadata": {},
   "outputs": [],
   "source": [
    "#build into def in case I need to switch between\n",
    "def revWordIndex(w_ind):\n",
    "    reverse_word_index = dict([(value,key)for(key,value)in w_ind.items()])\n",
    "    return reverse_word_index"
   ]
  },
  {
   "cell_type": "code",
   "execution_count": 8,
   "id": "8cd099d8-8abd-40c6-9a2c-8934ef8ca665",
   "metadata": {},
   "outputs": [],
   "source": [
    "def decode_review(text):\n",
    "    rev=revWordIndex(word_index)\n",
    "    return \" \".join([rev.get(i,\"?\")for i in text])"
   ]
  },
  {
   "cell_type": "code",
   "execution_count": 9,
   "id": "fcd51346-8409-4930-928e-9bf2af1567c6",
   "metadata": {},
   "outputs": [],
   "source": [
    "#encode method\n",
    "def encode_review(text):\n",
    "    encoded=[1]    \n",
    "    for word in text:\n",
    "        if word.lower() in word_index:\n",
    "            encoded.append(word_index[word.lower()])\n",
    "        else:\n",
    "            encoded.append(2)\n",
    "    return encoded"
   ]
  },
  {
   "cell_type": "code",
   "execution_count": 10,
   "id": "559f5922-2b75-47c4-afb9-7b659ab19ad2",
   "metadata": {},
   "outputs": [],
   "source": [
    "# Text Preprocess step, lowercases, tokenizes, de-accents\n",
    "def sent_to_words(sentences):\n",
    "    for sentence in sentences:\n",
    "        yield(gensim.utils.simple_preprocess(str(sentence),deacc=True,min_len=2,max_len=25))      \n",
    "\n",
    "    "
   ]
  },
  {
   "cell_type": "code",
   "execution_count": 11,
   "id": "0b44b751-1bfc-419f-805b-14f2736ff786",
   "metadata": {},
   "outputs": [],
   "source": [
    "#some basic regex removal\n",
    "def depure_data(data):\n",
    "    url_pattern = re.compile(r'https?://\\S+|www\\.\\S+')\n",
    "    data = url_pattern.sub(r'',data)\n",
    "    data = re.sub('\\S*@\\S*\\s?', '', data)\n",
    "    data = re.sub('\\s+', ' ', data)\n",
    "    data = re.sub(\"\\'\", \"\", data)\n",
    "    return data"
   ]
  },
  {
   "cell_type": "code",
   "execution_count": 12,
   "id": "bf770475-8005-4031-8061-228f10d5627e",
   "metadata": {},
   "outputs": [],
   "source": [
    "from nltk.tokenize.treebank import TreebankWordDetokenizer\n",
    "def detokenize(text):\n",
    "    return TreebankWordDetokenizer().detokenize(text)"
   ]
  },
  {
   "cell_type": "code",
   "execution_count": 13,
   "id": "1418fe8b-dceb-4409-9f78-c176f6791266",
   "metadata": {},
   "outputs": [],
   "source": [
    "#Need a way to update the word_index\n",
    "from gensim.corpora.dictionary import Dictionary\n",
    "\n",
    "def updateWordDict(doc,wind):\n",
    "    new_word_index = Dictionary([doc])\n",
    "    a=revWordIndex(new_word_index)\n",
    "    for x in a:\n",
    "        if x.lower() in wind:\n",
    "            pass\n",
    "        else:\n",
    "            #add word to word_index and increment value by max+1\n",
    "            wind[x.lower()]=max(wind.values())+1\n",
    "    return wind\n",
    "\n",
    "def getWordDict(doc):\n",
    "    a = Dictionary(doc)\n",
    "    b = revWordIndex(a)\n",
    "    return b\n",
    "\n",
    "def preProc(doc):\n",
    "    temp = []\n",
    "    for i in doc:\n",
    "        temp.append(depure_data(i))\n",
    "\n",
    "    data_words = list(sent_to_words(temp))\n",
    "    return data_words"
   ]
  },
  {
   "cell_type": "code",
   "execution_count": 14,
   "id": "0c2d6116-8f91-4337-8f52-90c35b93243f",
   "metadata": {
    "tags": []
   },
   "outputs": [],
   "source": [
    "#create word index on our data\n",
    "# word_index = data.get_word_index()\n",
    "# word_index ={}\n",
    "#preprocess before creating word index\n",
    "docs=df.text.tolist()\n",
    "# docs\n",
    "#clean list\n",
    "cdocs=preProc(docs)\n",
    "#get word_index \n",
    "word_index = getWordDict(cdocs)"
   ]
  },
  {
   "cell_type": "code",
   "execution_count": 15,
   "id": "f3c21d14-2e0c-4791-b881-655e0b86f28e",
   "metadata": {},
   "outputs": [],
   "source": [
    "\n",
    "#this will augment a word_index with padding by shifting values as default object starts at 0\n",
    "word_index = {k:(v+3) for k,v in word_index.items()}\n",
    "\n",
    "word_index[\"<PAD>\"]=0\n",
    "word_index[\"<START>\"]=1\n",
    "word_index[\"<UNK>\"]=2\n",
    "word_index[\"<UNUSED>\"]=3"
   ]
  },
  {
   "cell_type": "code",
   "execution_count": 16,
   "id": "fd92df56-0bc5-4c1d-8ffe-e8f3bc51b116",
   "metadata": {},
   "outputs": [
    {
     "data": {
      "text/plain": [
       "['what', 'said']"
      ]
     },
     "execution_count": 16,
     "metadata": {},
     "output_type": "execute_result"
    }
   ],
   "source": [
    "docs[0]\n",
    "cdocs[0]"
   ]
  },
  {
   "cell_type": "markdown",
   "id": "7e0e073f-b1cb-4c47-95b0-55f85eb542e1",
   "metadata": {
    "tags": []
   },
   "source": [
    "# EDA"
   ]
  },
  {
   "cell_type": "code",
   "execution_count": 17,
   "id": "036b5934-42bc-4462-9592-d3a74eb69530",
   "metadata": {},
   "outputs": [],
   "source": [
    "a=[]\n",
    "for x in cdocs:#get cdocs first\n",
    "    a.append(len(x))"
   ]
  },
  {
   "cell_type": "code",
   "execution_count": 18,
   "id": "ec14906f-fde4-4751-9034-053ea71de63e",
   "metadata": {},
   "outputs": [
    {
     "data": {
      "text/plain": [
       "20"
      ]
     },
     "execution_count": 18,
     "metadata": {},
     "output_type": "execute_result"
    }
   ],
   "source": [
    "#includes spaces, counts characters\n",
    "a[5]"
   ]
  },
  {
   "cell_type": "code",
   "execution_count": 19,
   "id": "e8e72374-1ad5-4555-a5b4-fe4fb9fc6e6e",
   "metadata": {
    "tags": []
   },
   "outputs": [
    {
     "data": {
      "text/plain": [
       "['seriously',\n",
       " 'would',\n",
       " 'pay',\n",
       " 'flight',\n",
       " 'for',\n",
       " 'seats',\n",
       " 'that',\n",
       " 'didnt',\n",
       " 'have',\n",
       " 'this',\n",
       " 'playing',\n",
       " 'its',\n",
       " 'really',\n",
       " 'the',\n",
       " 'only',\n",
       " 'bad',\n",
       " 'thing',\n",
       " 'about',\n",
       " 'flying',\n",
       " 'va']"
      ]
     },
     "execution_count": 19,
     "metadata": {},
     "output_type": "execute_result"
    }
   ],
   "source": [
    "cdocs[5]"
   ]
  },
  {
   "cell_type": "code",
   "execution_count": 20,
   "id": "7c21102c-b4b5-4c6b-94e7-610de9199eac",
   "metadata": {},
   "outputs": [
    {
     "data": {
      "text/plain": [
       "\"@VirginAmerica seriously would pay $30 a flight for seats that didn't have this playing.\\nit's really the only bad thing about flying VA\""
      ]
     },
     "execution_count": 20,
     "metadata": {},
     "output_type": "execute_result"
    }
   ],
   "source": [
    "docs[5]"
   ]
  },
  {
   "cell_type": "code",
   "execution_count": 21,
   "id": "ad8ff638-3f8f-4aef-81bb-81f4f4b8e9bc",
   "metadata": {
    "tags": []
   },
   "outputs": [
    {
     "data": {
      "text/plain": [
       "<AxesSubplot:>"
      ]
     },
     "execution_count": 21,
     "metadata": {},
     "output_type": "execute_result"
    },
    {
     "data": {
      "image/png": "[encoded data removed]",
      "text/plain": [
       "<Figure size 432x288 with 1 Axes>"
      ]
     },
     "metadata": {
      "needs_background": "light"
     },
     "output_type": "display_data"
    }
   ],
   "source": [
    "#need to convert string to numeric for tensor\n",
    "df.airline_sentiment.hist()"
   ]
  },
  {
   "cell_type": "code",
   "execution_count": 23,
   "id": "3d4fb841-b4c2-48ca-9c5d-e2cb42d7deed",
   "metadata": {},
   "outputs": [],
   "source": [
    "#Transform classification\n",
    "df.airline_sentiment.replace({'negative':0,'neutral':1,'positive':2},inplace=True)\n"
   ]
  },
  {
   "cell_type": "code",
   "execution_count": 24,
   "id": "2e2215f9-4c59-4e42-b653-1fdfb57b19fd",
   "metadata": {
    "tags": []
   },
   "outputs": [
    {
     "data": {
      "text/html": [
       "<div>\n",
       "<style scoped>\n",
       "    .dataframe tbody tr th:only-of-type {\n",
       "        vertical-align: middle;\n",
       "    }\n",
       "\n",
       "    .dataframe tbody tr th {\n",
       "        vertical-align: top;\n",
       "    }\n",
       "\n",
       "    .dataframe thead th {\n",
       "        text-align: right;\n",
       "    }\n",
       "</style>\n",
       "<table border=\"1\" class=\"dataframe\">\n",
       "  <thead>\n",
       "    <tr style=\"text-align: right;\">\n",
       "      <th></th>\n",
       "      <th>tweet_id</th>\n",
       "      <th>airline_sentiment</th>\n",
       "      <th>airline_sentiment_confidence</th>\n",
       "      <th>negativereason</th>\n",
       "      <th>negativereason_confidence</th>\n",
       "      <th>airline</th>\n",
       "      <th>airline_sentiment_gold</th>\n",
       "      <th>name</th>\n",
       "      <th>negativereason_gold</th>\n",
       "      <th>retweet_count</th>\n",
       "      <th>text</th>\n",
       "      <th>tweet_coord</th>\n",
       "      <th>tweet_created</th>\n",
       "      <th>tweet_location</th>\n",
       "      <th>user_timezone</th>\n",
       "    </tr>\n",
       "  </thead>\n",
       "  <tbody>\n",
       "    <tr>\n",
       "      <th>0</th>\n",
       "      <td>570306133677760513</td>\n",
       "      <td>1</td>\n",
       "      <td>1.0000</td>\n",
       "      <td>NaN</td>\n",
       "      <td>NaN</td>\n",
       "      <td>Virgin America</td>\n",
       "      <td>NaN</td>\n",
       "      <td>cairdin</td>\n",
       "      <td>NaN</td>\n",
       "      <td>0</td>\n",
       "      <td>@VirginAmerica What @dhepburn said.</td>\n",
       "      <td>NaN</td>\n",
       "      <td>2015-02-24 11:35:52 -0800</td>\n",
       "      <td>NaN</td>\n",
       "      <td>Eastern Time (US &amp; Canada)</td>\n",
       "    </tr>\n",
       "    <tr>\n",
       "      <th>1</th>\n",
       "      <td>570301130888122368</td>\n",
       "      <td>2</td>\n",
       "      <td>0.3486</td>\n",
       "      <td>NaN</td>\n",
       "      <td>0.0000</td>\n",
       "      <td>Virgin America</td>\n",
       "      <td>NaN</td>\n",
       "      <td>jnardino</td>\n",
       "      <td>NaN</td>\n",
       "      <td>0</td>\n",
       "      <td>@VirginAmerica plus you've added commercials t...</td>\n",
       "      <td>NaN</td>\n",
       "      <td>2015-02-24 11:15:59 -0800</td>\n",
       "      <td>NaN</td>\n",
       "      <td>Pacific Time (US &amp; Canada)</td>\n",
       "    </tr>\n",
       "    <tr>\n",
       "      <th>2</th>\n",
       "      <td>570301083672813571</td>\n",
       "      <td>1</td>\n",
       "      <td>0.6837</td>\n",
       "      <td>NaN</td>\n",
       "      <td>NaN</td>\n",
       "      <td>Virgin America</td>\n",
       "      <td>NaN</td>\n",
       "      <td>yvonnalynn</td>\n",
       "      <td>NaN</td>\n",
       "      <td>0</td>\n",
       "      <td>@VirginAmerica I didn't today... Must mean I n...</td>\n",
       "      <td>NaN</td>\n",
       "      <td>2015-02-24 11:15:48 -0800</td>\n",
       "      <td>Lets Play</td>\n",
       "      <td>Central Time (US &amp; Canada)</td>\n",
       "    </tr>\n",
       "    <tr>\n",
       "      <th>3</th>\n",
       "      <td>570301031407624196</td>\n",
       "      <td>0</td>\n",
       "      <td>1.0000</td>\n",
       "      <td>Bad Flight</td>\n",
       "      <td>0.7033</td>\n",
       "      <td>Virgin America</td>\n",
       "      <td>NaN</td>\n",
       "      <td>jnardino</td>\n",
       "      <td>NaN</td>\n",
       "      <td>0</td>\n",
       "      <td>@VirginAmerica it's really aggressive to blast...</td>\n",
       "      <td>NaN</td>\n",
       "      <td>2015-02-24 11:15:36 -0800</td>\n",
       "      <td>NaN</td>\n",
       "      <td>Pacific Time (US &amp; Canada)</td>\n",
       "    </tr>\n",
       "    <tr>\n",
       "      <th>4</th>\n",
       "      <td>570300817074462722</td>\n",
       "      <td>0</td>\n",
       "      <td>1.0000</td>\n",
       "      <td>Can't Tell</td>\n",
       "      <td>1.0000</td>\n",
       "      <td>Virgin America</td>\n",
       "      <td>NaN</td>\n",
       "      <td>jnardino</td>\n",
       "      <td>NaN</td>\n",
       "      <td>0</td>\n",
       "      <td>@VirginAmerica and it's a really big bad thing...</td>\n",
       "      <td>NaN</td>\n",
       "      <td>2015-02-24 11:14:45 -0800</td>\n",
       "      <td>NaN</td>\n",
       "      <td>Pacific Time (US &amp; Canada)</td>\n",
       "    </tr>\n",
       "  </tbody>\n",
       "</table>\n",
       "</div>"
      ],
      "text/plain": [
       "             tweet_id  airline_sentiment  airline_sentiment_confidence  \\\n",
       "0  570306133677760513                  1                        1.0000   \n",
       "1  570301130888122368                  2                        0.3486   \n",
       "2  570301083672813571                  1                        0.6837   \n",
       "3  570301031407624196                  0                        1.0000   \n",
       "4  570300817074462722                  0                        1.0000   \n",
       "\n",
       "  negativereason  negativereason_confidence         airline  \\\n",
       "0            NaN                        NaN  Virgin America   \n",
       "1            NaN                     0.0000  Virgin America   \n",
       "2            NaN                        NaN  Virgin America   \n",
       "3     Bad Flight                     0.7033  Virgin America   \n",
       "4     Can't Tell                     1.0000  Virgin America   \n",
       "\n",
       "  airline_sentiment_gold        name negativereason_gold  retweet_count  \\\n",
       "0                    NaN     cairdin                 NaN              0   \n",
       "1                    NaN    jnardino                 NaN              0   \n",
       "2                    NaN  yvonnalynn                 NaN              0   \n",
       "3                    NaN    jnardino                 NaN              0   \n",
       "4                    NaN    jnardino                 NaN              0   \n",
       "\n",
       "                                                text tweet_coord  \\\n",
       "0                @VirginAmerica What @dhepburn said.         NaN   \n",
       "1  @VirginAmerica plus you've added commercials t...         NaN   \n",
       "2  @VirginAmerica I didn't today... Must mean I n...         NaN   \n",
       "3  @VirginAmerica it's really aggressive to blast...         NaN   \n",
       "4  @VirginAmerica and it's a really big bad thing...         NaN   \n",
       "\n",
       "               tweet_created tweet_location               user_timezone  \n",
       "0  2015-02-24 11:35:52 -0800            NaN  Eastern Time (US & Canada)  \n",
       "1  2015-02-24 11:15:59 -0800            NaN  Pacific Time (US & Canada)  \n",
       "2  2015-02-24 11:15:48 -0800      Lets Play  Central Time (US & Canada)  \n",
       "3  2015-02-24 11:15:36 -0800            NaN  Pacific Time (US & Canada)  \n",
       "4  2015-02-24 11:14:45 -0800            NaN  Pacific Time (US & Canada)  "
      ]
     },
     "execution_count": 24,
     "metadata": {},
     "output_type": "execute_result"
    }
   ],
   "source": [
    "df.head()"
   ]
  },
  {
   "cell_type": "code",
   "execution_count": 25,
   "id": "1fca7f01-886f-4c7b-a848-fd0a77e19b7a",
   "metadata": {},
   "outputs": [
    {
     "data": {
      "text/plain": [
       "[<matplotlib.lines.Line2D at 0x1d02b3a4af0>]"
      ]
     },
     "execution_count": 25,
     "metadata": {},
     "output_type": "execute_result"
    },
    {
     "data": {
      "image/png": "[encoded data removed]",
      "text/plain": [
       "<Figure size 432x288 with 1 Axes>"
      ]
     },
     "metadata": {
      "needs_background": "light"
     },
     "output_type": "display_data"
    }
   ],
   "source": [
    "import matplotlib.pyplot as plt\n",
    "plt.plot(a, label='sentence length')"
   ]
  },
  {
   "cell_type": "code",
   "execution_count": 26,
   "id": "8d687d78-9e7b-42ce-92dd-3500809be7a4",
   "metadata": {},
   "outputs": [
    {
     "data": {
      "text/plain": [
       "16.0"
      ]
     },
     "execution_count": 26,
     "metadata": {},
     "output_type": "execute_result"
    }
   ],
   "source": [
    "import numpy as np\n",
    "np.median(a)"
   ]
  },
  {
   "cell_type": "code",
   "execution_count": 27,
   "id": "5468ef1e-2fb5-4f7c-8d82-3279cb2315c8",
   "metadata": {},
   "outputs": [],
   "source": [
    "from collections import Counter\n",
    "d = Counter(a)"
   ]
  },
  {
   "cell_type": "code",
   "execution_count": 28,
   "id": "ea31a8dc-05e7-4e8d-ac5d-095eedbcf97f",
   "metadata": {},
   "outputs": [
    {
     "data": {
      "text/plain": [
       "<BarContainer object of 30 artists>"
      ]
     },
     "execution_count": 28,
     "metadata": {},
     "output_type": "execute_result"
    },
    {
     "data": {
      "image/png": "[encoded data removed]",
      "text/plain": [
       "<Figure size 432x288 with 1 Axes>"
      ]
     },
     "metadata": {
      "needs_background": "light"
     },
     "output_type": "display_data"
    }
   ],
   "source": [
    "# d\n",
    "plt.bar(d.keys(),d.values())"
   ]
  },
  {
   "cell_type": "code",
   "execution_count": 29,
   "id": "5215c984-3ee4-4219-8732-4103e6249bc4",
   "metadata": {
    "tags": []
   },
   "outputs": [],
   "source": [
    "# a\n",
    "tar=np.array(a, dtype=object)"
   ]
  },
  {
   "cell_type": "code",
   "execution_count": 30,
   "id": "fa8042f7-8099-4bb8-8d2b-65c62a7280c3",
   "metadata": {},
   "outputs": [
    {
     "name": "stderr",
     "output_type": "stream",
     "text": [
      "C:\\Users\\Kurt\\anaconda3\\envs\\TestTensor\\lib\\site-packages\\seaborn\\distributions.py:2619: FutureWarning: `distplot` is a deprecated function and will be removed in a future version. Please adapt your code to use either `displot` (a figure-level function with similar flexibility) or `histplot` (an axes-level function for histograms).\n",
      "  warnings.warn(msg, FutureWarning)\n"
     ]
    },
    {
     "data": {
      "text/plain": [
       "<AxesSubplot:ylabel='Density'>"
      ]
     },
     "execution_count": 30,
     "metadata": {},
     "output_type": "execute_result"
    },
    {
     "data": {
      "image/png": "[encoded data removed]",
      "text/plain": [
       "<Figure size 432x288 with 1 Axes>"
      ]
     },
     "metadata": {
      "needs_background": "light"
     },
     "output_type": "display_data"
    }
   ],
   "source": [
    "#density plot\n",
    "import seaborn as sns\n",
    "sns.distplot(tar,hist=True,kde=True)"
   ]
  },
  {
   "cell_type": "code",
   "execution_count": 31,
   "id": "0c503b2b-29f5-4341-a812-795aa4800651",
   "metadata": {},
   "outputs": [
    {
     "data": {
      "image/png": "[encoded data removed]",
      "text/plain": [
       "<Figure size 432x288 with 1 Axes>"
      ]
     },
     "metadata": {
      "needs_background": "light"
     },
     "output_type": "display_data"
    }
   ],
   "source": [
    "\n",
    "sm.qqplot(tar, line='q')\n",
    "pylab.show()"
   ]
  },
  {
   "cell_type": "code",
   "execution_count": 32,
   "id": "b5a199e1-d0ca-4f27-831a-46807fc8595e",
   "metadata": {},
   "outputs": [],
   "source": [
    "#cut off some of the outliers\n",
    "dd = {x: count for x, count in d.items() if x <30}\n"
   ]
  },
  {
   "cell_type": "code",
   "execution_count": 33,
   "id": "41be7981-301b-492c-8a55-9bcd0d81e62b",
   "metadata": {},
   "outputs": [
    {
     "data": {
      "text/plain": [
       "24"
      ]
     },
     "execution_count": 33,
     "metadata": {},
     "output_type": "execute_result"
    }
   ],
   "source": [
    "# max(dd.values())\n",
    "max(dd.keys())"
   ]
  },
  {
   "cell_type": "code",
   "execution_count": 34,
   "id": "793afd96-e6b1-413d-b9fb-4b0a4e09887a",
   "metadata": {},
   "outputs": [
    {
     "data": {
      "text/plain": [
       "<BarContainer object of 25 artists>"
      ]
     },
     "execution_count": 34,
     "metadata": {},
     "output_type": "execute_result"
    },
    {
     "data": {
      "image/png": "[encoded data removed]",
      "text/plain": [
       "<Figure size 432x288 with 1 Axes>"
      ]
     },
     "metadata": {
      "needs_background": "light"
     },
     "output_type": "display_data"
    }
   ],
   "source": [
    "#over 90% below 25 characters\n",
    "plt.bar(dd.keys(),dd.values())"
   ]
  },
  {
   "cell_type": "code",
   "execution_count": 36,
   "id": "8abc0add-c4ee-4691-9f0b-5a22eafdda17",
   "metadata": {},
   "outputs": [
    {
     "data": {
      "text/plain": [
       "11196"
      ]
     },
     "execution_count": 36,
     "metadata": {},
     "output_type": "execute_result"
    }
   ],
   "source": [
    "max(word_index.values())"
   ]
  },
  {
   "cell_type": "code",
   "execution_count": 37,
   "id": "b82dc800-0ca0-4590-95aa-51df39da2792",
   "metadata": {},
   "outputs": [],
   "source": [
    "#transform, hotencode\n",
    "df_onehot = pd.get_dummies(df[['airline_sentiment','text']],columns=['airline_sentiment'],prefix='sentiment')"
   ]
  },
  {
   "cell_type": "code",
   "execution_count": 38,
   "id": "72742123-37e0-4064-9636-340bed9a1808",
   "metadata": {},
   "outputs": [
    {
     "data": {
      "text/html": [
       "<div>\n",
       "<style scoped>\n",
       "    .dataframe tbody tr th:only-of-type {\n",
       "        vertical-align: middle;\n",
       "    }\n",
       "\n",
       "    .dataframe tbody tr th {\n",
       "        vertical-align: top;\n",
       "    }\n",
       "\n",
       "    .dataframe thead th {\n",
       "        text-align: right;\n",
       "    }\n",
       "</style>\n",
       "<table border=\"1\" class=\"dataframe\">\n",
       "  <thead>\n",
       "    <tr style=\"text-align: right;\">\n",
       "      <th></th>\n",
       "      <th>text</th>\n",
       "      <th>sentiment_0</th>\n",
       "      <th>sentiment_1</th>\n",
       "      <th>sentiment_2</th>\n",
       "    </tr>\n",
       "  </thead>\n",
       "  <tbody>\n",
       "    <tr>\n",
       "      <th>0</th>\n",
       "      <td>@VirginAmerica What @dhepburn said.</td>\n",
       "      <td>0</td>\n",
       "      <td>1</td>\n",
       "      <td>0</td>\n",
       "    </tr>\n",
       "    <tr>\n",
       "      <th>1</th>\n",
       "      <td>@VirginAmerica plus you've added commercials t...</td>\n",
       "      <td>0</td>\n",
       "      <td>0</td>\n",
       "      <td>1</td>\n",
       "    </tr>\n",
       "    <tr>\n",
       "      <th>2</th>\n",
       "      <td>@VirginAmerica I didn't today... Must mean I n...</td>\n",
       "      <td>0</td>\n",
       "      <td>1</td>\n",
       "      <td>0</td>\n",
       "    </tr>\n",
       "    <tr>\n",
       "      <th>3</th>\n",
       "      <td>@VirginAmerica it's really aggressive to blast...</td>\n",
       "      <td>1</td>\n",
       "      <td>0</td>\n",
       "      <td>0</td>\n",
       "    </tr>\n",
       "    <tr>\n",
       "      <th>4</th>\n",
       "      <td>@VirginAmerica and it's a really big bad thing...</td>\n",
       "      <td>1</td>\n",
       "      <td>0</td>\n",
       "      <td>0</td>\n",
       "    </tr>\n",
       "  </tbody>\n",
       "</table>\n",
       "</div>"
      ],
      "text/plain": [
       "                                                text  sentiment_0  \\\n",
       "0                @VirginAmerica What @dhepburn said.            0   \n",
       "1  @VirginAmerica plus you've added commercials t...            0   \n",
       "2  @VirginAmerica I didn't today... Must mean I n...            0   \n",
       "3  @VirginAmerica it's really aggressive to blast...            1   \n",
       "4  @VirginAmerica and it's a really big bad thing...            1   \n",
       "\n",
       "   sentiment_1  sentiment_2  \n",
       "0            1            0  \n",
       "1            0            1  \n",
       "2            1            0  \n",
       "3            0            0  \n",
       "4            0            0  "
      ]
     },
     "execution_count": 38,
     "metadata": {},
     "output_type": "execute_result"
    }
   ],
   "source": [
    "df_onehot.head()\n",
    "# df[['airline_sentiment','text']].head()"
   ]
  },
  {
   "cell_type": "code",
   "execution_count": 68,
   "id": "3cd22e99-177d-4644-a449-f5d97e1a9143",
   "metadata": {},
   "outputs": [
    {
     "name": "stdout",
     "output_type": "stream",
     "text": [
      "<class 'pandas.core.frame.DataFrame'>\n",
      "RangeIndex: 14640 entries, 0 to 14639\n",
      "Data columns (total 4 columns):\n",
      " #   Column       Non-Null Count  Dtype \n",
      "---  ------       --------------  ----- \n",
      " 0   text         14640 non-null  object\n",
      " 1   sentiment_0  14640 non-null  uint8 \n",
      " 2   sentiment_1  14640 non-null  uint8 \n",
      " 3   sentiment_2  14640 non-null  uint8 \n",
      "dtypes: object(1), uint8(3)\n",
      "memory usage: 157.4+ KB\n"
     ]
    }
   ],
   "source": [
    "df_onehot.info()"
   ]
  },
  {
   "cell_type": "code",
   "execution_count": 40,
   "id": "c76a8e17-b73b-4cd6-ae42-0a995b914cc1",
   "metadata": {
    "tags": []
   },
   "outputs": [],
   "source": [
    "import numpy as np\n",
    "#need to shuffle the df first\n",
    "df = df_onehot.sample(frac=1)\n",
    "s=2000\n",
    "data_to_list = df[s:].text.tolist()\n",
    "test_to_list =df[:s].text.tolist()\n"
   ]
  },
  {
   "cell_type": "code",
   "execution_count": 41,
   "id": "cdf4b853-f788-4874-9d84-24084bd1c3ba",
   "metadata": {
    "tags": []
   },
   "outputs": [],
   "source": [
    "#3way classification\n",
    "t1_train_labels_onehot = np.array(df[s:][['sentiment_0','sentiment_1','sentiment_2']])\n",
    "t1_test_labels_onehot = np.array(df[:s][['sentiment_0','sentiment_1','sentiment_2']])"
   ]
  },
  {
   "cell_type": "code",
   "execution_count": 69,
   "id": "b54fe448-10e0-4bc0-ad43-485474470f89",
   "metadata": {},
   "outputs": [
    {
     "data": {
      "text/plain": [
       "array([0, 0, 1], dtype=uint8)"
      ]
     },
     "execution_count": 69,
     "metadata": {},
     "output_type": "execute_result"
    }
   ],
   "source": [
    "t1_train_labels_onehot[0]"
   ]
  },
  {
   "cell_type": "code",
   "execution_count": 43,
   "id": "0d19b1c8-33b1-42a6-a32b-6e08153209be",
   "metadata": {},
   "outputs": [
    {
     "name": "stdout",
     "output_type": "stream",
     "text": [
      "12640 2000\n"
     ]
    }
   ],
   "source": [
    "# print(len(t1_train_labels),len(t1_test_labels))\n",
    "print(len(t1_train_labels_onehot),len(t1_test_labels_onehot))"
   ]
  },
  {
   "cell_type": "code",
   "execution_count": 44,
   "id": "21a9a4cd-5783-460d-8dc0-d7ae58a9b4e2",
   "metadata": {},
   "outputs": [],
   "source": [
    "\n",
    "data_words = preProc(data_to_list)"
   ]
  },
  {
   "cell_type": "code",
   "execution_count": 45,
   "id": "686c0dc3-d826-470d-aaaf-131eb5375d7f",
   "metadata": {},
   "outputs": [],
   "source": [
    "\n",
    "test_words = preProc(test_to_list)"
   ]
  },
  {
   "cell_type": "code",
   "execution_count": 46,
   "id": "4fdf43cc-6462-4b58-9b1f-f65818fa0100",
   "metadata": {},
   "outputs": [],
   "source": [
    "#\n",
    "# def getLen(docs):\n",
    "#     a=[]   \n",
    "#     for x in docs:#get cdocs first\n",
    "#         a.append(len(x))\n",
    "#     return a"
   ]
  },
  {
   "cell_type": "code",
   "execution_count": 47,
   "id": "b85ea95a-585f-4f96-8802-814ffd10e021",
   "metadata": {},
   "outputs": [],
   "source": [
    "#set vars for text len on both sampels\n",
    "# test_len=getLen(test_words)\n",
    "# train_len=getLen(data_words)\n"
   ]
  },
  {
   "cell_type": "code",
   "execution_count": 48,
   "id": "ef72ca30-cb03-49fe-9e7c-3b5018a8412c",
   "metadata": {
    "tags": []
   },
   "outputs": [],
   "source": [
    "#test of text len\n",
    "# test_array=np.array(test_len, dtype=object)\n",
    "# train_array=np.array(train_len,dtype=object)\n"
   ]
  },
  {
   "cell_type": "code",
   "execution_count": 70,
   "id": "de68a604-1ed5-46eb-9f0a-026234218234",
   "metadata": {},
   "outputs": [],
   "source": [
    "#zip together to provide test and train datasets\n",
    "train_data_zip = pd.DataFrame(zip(data_words,t1_train_labels_onehot),columns=['cleaned_text','Classification'])\n",
    "# train_data_zip.head()\n",
    "test_data_zip =  pd.DataFrame(zip(test_words,t1_test_labels_onehot),columns=['cleaned_text','Classification'])\n",
    "# test_data_zip.head()"
   ]
  },
  {
   "cell_type": "code",
   "execution_count": 71,
   "id": "22dab626-1719-4031-b601-07b081af8517",
   "metadata": {},
   "outputs": [],
   "source": [
    "#out to file\n",
    "path=\"C:/Users/Kurt/Desktop/COD/wgu/Capstone/\"\n",
    "test_data_zip.to_csv(path+'test.csv')\n",
    "train_data_zip.to_csv(path+'train.csv')"
   ]
  },
  {
   "cell_type": "code",
   "execution_count": 72,
   "id": "27f2b6af-231c-4ad1-bbf3-c310e88e18dd",
   "metadata": {},
   "outputs": [],
   "source": [
    "\n",
    "t1_encoded=[]\n",
    "for x in data_words:\n",
    "    t1_encoded.append(encode_review(x))\n"
   ]
  },
  {
   "cell_type": "code",
   "execution_count": 73,
   "id": "334008fa-2d2a-4f62-af6e-e795f0f554bb",
   "metadata": {
    "tags": []
   },
   "outputs": [
    {
     "data": {
      "text/plain": [
       "[1, 490, 98, 98, 74, 10, 594]"
      ]
     },
     "execution_count": 73,
     "metadata": {},
     "output_type": "execute_result"
    }
   ],
   "source": [
    "t1_encoded[5]"
   ]
  },
  {
   "cell_type": "code",
   "execution_count": 74,
   "id": "879d767d-9556-461d-95f7-12db420cf387",
   "metadata": {
    "tags": []
   },
   "outputs": [
    {
     "data": {
      "text/plain": [
       "'<START> thank you you do the same'"
      ]
     },
     "execution_count": 74,
     "metadata": {},
     "output_type": "execute_result"
    }
   ],
   "source": [
    "decode_review(t1_encoded[5])\n"
   ]
  },
  {
   "cell_type": "code",
   "execution_count": 75,
   "id": "50785102-866d-470d-bc66-6dcd1cd13d1a",
   "metadata": {
    "tags": []
   },
   "outputs": [
    {
     "name": "stdout",
     "output_type": "stream",
     "text": [
      "['thank', 'you', 'you', 'do', 'the', 'same']\n"
     ]
    }
   ],
   "source": [
    "print(data_words[5])"
   ]
  },
  {
   "cell_type": "code",
   "execution_count": 76,
   "id": "03a57670-e0e7-47fc-acef-01c45aa3382d",
   "metadata": {},
   "outputs": [
    {
     "data": {
      "text/plain": [
       "6"
      ]
     },
     "execution_count": 76,
     "metadata": {},
     "output_type": "execute_result"
    }
   ],
   "source": [
    "train_array[5]"
   ]
  },
  {
   "cell_type": "code",
   "execution_count": 77,
   "id": "0fd20d59-737f-481f-9dc6-d82049a59c06",
   "metadata": {},
   "outputs": [],
   "source": [
    "#turn into array\n",
    "encoded_train = np.array(t1_encoded, dtype=object)"
   ]
  },
  {
   "cell_type": "code",
   "execution_count": 78,
   "id": "c249df67-cc98-44a2-811d-373b7ec62f16",
   "metadata": {
    "tags": []
   },
   "outputs": [
    {
     "data": {
      "text/plain": [
       "[1, 64, 29, 1651, 42, 490, 98]"
      ]
     },
     "execution_count": 78,
     "metadata": {},
     "output_type": "execute_result"
    }
   ],
   "source": [
    "encoded_train[0]"
   ]
  },
  {
   "cell_type": "code",
   "execution_count": 79,
   "id": "e5de86f3-0a9d-4847-9a93-31015179b509",
   "metadata": {},
   "outputs": [],
   "source": [
    "t2_encoded = []\n",
    "for x in test_words:\n",
    "    t2_encoded.append(encode_review(x))"
   ]
  },
  {
   "cell_type": "code",
   "execution_count": 80,
   "id": "719c2fe0-d790-449c-aa59-d860b99eb64f",
   "metadata": {},
   "outputs": [],
   "source": [
    "encoded_test = np.array(t2_encoded, dtype=object)"
   ]
  },
  {
   "cell_type": "code",
   "execution_count": 81,
   "id": "4a3e2e16-0633-476a-839d-e289a988f76f",
   "metadata": {},
   "outputs": [
    {
     "data": {
      "text/plain": [
       "array([0, 0, 1], dtype=uint8)"
      ]
     },
     "execution_count": 81,
     "metadata": {},
     "output_type": "execute_result"
    }
   ],
   "source": [
    "t1_train_labels_onehot[0]"
   ]
  },
  {
   "cell_type": "code",
   "execution_count": 82,
   "id": "ec6b06ae-4fa2-404d-b73d-cf2f2f1962ce",
   "metadata": {},
   "outputs": [],
   "source": [
    "#create def\n",
    "def call_pred(text,ltr,model):\n",
    "    temp =depure_data(text)\n",
    "    test_review = list(sent_to_words(temp))#text\n",
    "    encoded_doc = encode_review(test_review)\n",
    "    #flatten into form for model\n",
    "    encoded_pad_doc = keras.preprocessing.sequence.pad_sequences([encoded_doc],value=word_index[\"<PAD>\"],padding=\"post\", maxlen=25)\n",
    "    predict = model.predict([encoded_pad_doc])\n",
    "    print(\"Review: \")\n",
    "    print(decode_review(encoded_doc))\n",
    "#     print(\"prediction: \",str(predict[0].round()))\n",
    "    print(\"Actual: \",str(ltr))#"
   ]
  },
  {
   "cell_type": "code",
   "execution_count": 83,
   "id": "49825230-1b14-4bf9-8674-712d0cb3e28b",
   "metadata": {},
   "outputs": [
    {
     "data": {
      "text/plain": [
       "12640"
      ]
     },
     "execution_count": 83,
     "metadata": {},
     "output_type": "execute_result"
    }
   ],
   "source": [
    "len(t1_encoded)"
   ]
  },
  {
   "cell_type": "code",
   "execution_count": 84,
   "id": "80dbf6c7-66a6-465b-a71d-a77b620fb284",
   "metadata": {},
   "outputs": [
    {
     "data": {
      "text/plain": [
       "numpy.ndarray"
      ]
     },
     "execution_count": 84,
     "metadata": {},
     "output_type": "execute_result"
    }
   ],
   "source": [
    "# len(t1_train)\n",
    "# len(t1_train_labels)\n",
    "type(t1_train_labels_onehot)"
   ]
  },
  {
   "cell_type": "code",
   "execution_count": 85,
   "id": "109dd346-0957-4f31-b16d-0fdddd6fd260",
   "metadata": {},
   "outputs": [],
   "source": [
    "tens_train=keras.preprocessing.sequence.pad_sequences(encoded_train,value=word_index[\"<PAD>\"],padding='post',maxlen=30)\n",
    "tens_test=keras.preprocessing.sequence.pad_sequences(encoded_test,value=word_index[\"<PAD>\"],padding='post',maxlen=30)"
   ]
  },
  {
   "cell_type": "code",
   "execution_count": 86,
   "id": "efa1bda2-f0c0-4fdf-a7f2-58aae8757e45",
   "metadata": {},
   "outputs": [
    {
     "data": {
      "text/plain": [
       "array([  1, 490,  98,  98,  74,  10, 594,   0,   0,   0,   0,   0,   0,\n",
       "         0,   0,   0,   0,   0,   0,   0,   0,   0,   0,   0,   0,   0,\n",
       "         0,   0,   0,   0])"
      ]
     },
     "execution_count": 86,
     "metadata": {},
     "output_type": "execute_result"
    }
   ],
   "source": [
    "tens_train[5]"
   ]
  },
  {
   "cell_type": "code",
   "execution_count": 87,
   "id": "b9c351ef-e60c-4d3a-9c95-fc174404665d",
   "metadata": {
    "tags": []
   },
   "outputs": [
    {
     "name": "stdout",
     "output_type": "stream",
     "text": [
      "Model: \"sequential_1\"\n",
      "_________________________________________________________________\n",
      "Layer (type)                 Output Shape              Param #   \n",
      "=================================================================\n",
      "embedding_1 (Embedding)      (None, None, 16)          179152    \n",
      "_________________________________________________________________\n",
      "global_average_pooling1d_1 ( (None, 16)                0         \n",
      "_________________________________________________________________\n",
      "dense_2 (Dense)              (None, 16)                272       \n",
      "_________________________________________________________________\n",
      "dense_3 (Dense)              (None, 3)                 51        \n",
      "=================================================================\n",
      "Total params: 179,475\n",
      "Trainable params: 179,475\n",
      "Non-trainable params: 0\n",
      "_________________________________________________________________\n"
     ]
    }
   ],
   "source": [
    "#set early stopping\n",
    "early_stopping = EarlyStopping(patience=35)\n",
    "max_vocab = max(word_index.values())\n",
    "model = keras.Sequential()\n",
    "model.add(keras.layers.Embedding(max_vocab+1,16))\n",
    "model.add(keras.layers.GlobalAveragePooling1D())\n",
    "model.add(keras.layers.Dense(16,activation='relu'))\n",
    "model.add(keras.layers.Dense(3,activation='softmax'))          \n",
    "model.summary()"
   ]
  },
  {
   "cell_type": "code",
   "execution_count": 88,
   "id": "c5c36a80-1462-460b-adfb-4f90154482fc",
   "metadata": {},
   "outputs": [
    {
     "data": {
      "text/plain": [
       "array([0, 0, 1], dtype=uint8)"
      ]
     },
     "execution_count": 88,
     "metadata": {},
     "output_type": "execute_result"
    }
   ],
   "source": [
    "t1_test_labels_onehot[39]"
   ]
  },
  {
   "cell_type": "code",
   "execution_count": 89,
   "id": "8815b19c-bbd5-481a-a8f9-c4e30f27390f",
   "metadata": {},
   "outputs": [
    {
     "data": {
      "text/plain": [
       "array([[   1,   64,   29, ...,    0,    0,    0],\n",
       "       [   1,   51, 1162, ...,    0,    0,    0],\n",
       "       [   1,  519,  114, ...,    0,    0,    0],\n",
       "       ...,\n",
       "       [   1,   51,   42, ...,    0,    0,    0],\n",
       "       [   1,  130,   44, ...,    0,    0,    0],\n",
       "       [   1,   27,   42, ...,    0,    0,    0]])"
      ]
     },
     "execution_count": 89,
     "metadata": {},
     "output_type": "execute_result"
    }
   ],
   "source": [
    "tens_train"
   ]
  },
  {
   "cell_type": "code",
   "execution_count": 90,
   "id": "bdbaa93a-e556-4e78-8384-c77d3294d830",
   "metadata": {},
   "outputs": [
    {
     "data": {
      "text/plain": [
       "2000"
      ]
     },
     "execution_count": 90,
     "metadata": {},
     "output_type": "execute_result"
    }
   ],
   "source": [
    "len(tens_test)"
   ]
  },
  {
   "cell_type": "code",
   "execution_count": 91,
   "id": "6697990c-a9c8-4e0f-80d8-60600a09ddd1",
   "metadata": {},
   "outputs": [
    {
     "data": {
      "text/plain": [
       "11196"
      ]
     },
     "execution_count": 91,
     "metadata": {},
     "output_type": "execute_result"
    }
   ],
   "source": [
    "max_vocab"
   ]
  },
  {
   "cell_type": "code",
   "execution_count": 92,
   "id": "26e3f841-2912-45d4-9722-620fd708a376",
   "metadata": {},
   "outputs": [],
   "source": [
    "\n",
    "model.compile(optimizer='adam',loss='categorical_crossentropy',metrics=['accuracy'])"
   ]
  },
  {
   "cell_type": "code",
   "execution_count": 93,
   "id": "32ce2377-6b3e-4758-bc9c-724ee613f68a",
   "metadata": {
    "collapsed": true,
    "jupyter": {
     "outputs_hidden": true
    },
    "tags": []
   },
   "outputs": [
    {
     "name": "stdout",
     "output_type": "stream",
     "text": [
      "Epoch 1/100\n",
      "23/23 [==============================] - 0s 9ms/step - loss: 1.0741 - accuracy: 0.6175 - val_loss: 1.0458 - val_accuracy: 0.6321\n",
      "Epoch 2/100\n",
      "23/23 [==============================] - 0s 3ms/step - loss: 1.0215 - accuracy: 0.6222 - val_loss: 0.9867 - val_accuracy: 0.6321\n",
      "Epoch 3/100\n",
      "23/23 [==============================] - 0s 3ms/step - loss: 0.9647 - accuracy: 0.6222 - val_loss: 0.9320 - val_accuracy: 0.6321\n",
      "Epoch 4/100\n",
      "23/23 [==============================] - 0s 3ms/step - loss: 0.9203 - accuracy: 0.6222 - val_loss: 0.8974 - val_accuracy: 0.6321\n",
      "Epoch 5/100\n",
      "23/23 [==============================] - 0s 3ms/step - loss: 0.8890 - accuracy: 0.6222 - val_loss: 0.8636 - val_accuracy: 0.6321\n",
      "Epoch 6/100\n",
      "23/23 [==============================] - 0s 3ms/step - loss: 0.8502 - accuracy: 0.6222 - val_loss: 0.8237 - val_accuracy: 0.6321\n",
      "Epoch 7/100\n",
      "23/23 [==============================] - 0s 3ms/step - loss: 0.8060 - accuracy: 0.6226 - val_loss: 0.7819 - val_accuracy: 0.6392\n",
      "Epoch 8/100\n",
      "23/23 [==============================] - 0s 3ms/step - loss: 0.7625 - accuracy: 0.6525 - val_loss: 0.7488 - val_accuracy: 0.6835\n",
      "Epoch 9/100\n",
      "23/23 [==============================] - 0s 3ms/step - loss: 0.7260 - accuracy: 0.6921 - val_loss: 0.7222 - val_accuracy: 0.7002\n",
      "Epoch 10/100\n",
      "23/23 [==============================] - 0s 3ms/step - loss: 0.6916 - accuracy: 0.7154 - val_loss: 0.6975 - val_accuracy: 0.7191\n",
      "Epoch 11/100\n",
      "23/23 [==============================] - 0s 3ms/step - loss: 0.6560 - accuracy: 0.7355 - val_loss: 0.6725 - val_accuracy: 0.7286\n",
      "Epoch 12/100\n",
      "23/23 [==============================] - 0s 3ms/step - loss: 0.6206 - accuracy: 0.7562 - val_loss: 0.6498 - val_accuracy: 0.7445\n",
      "Epoch 13/100\n",
      "23/23 [==============================] - 0s 3ms/step - loss: 0.5869 - accuracy: 0.7803 - val_loss: 0.6300 - val_accuracy: 0.7571\n",
      "Epoch 14/100\n",
      "23/23 [==============================] - 0s 3ms/step - loss: 0.5566 - accuracy: 0.7890 - val_loss: 0.6138 - val_accuracy: 0.7468\n",
      "Epoch 15/100\n",
      "23/23 [==============================] - 0s 3ms/step - loss: 0.5295 - accuracy: 0.8073 - val_loss: 0.6004 - val_accuracy: 0.7642\n",
      "Epoch 16/100\n",
      "23/23 [==============================] - 0s 2ms/step - loss: 0.5056 - accuracy: 0.8158 - val_loss: 0.5895 - val_accuracy: 0.7722\n",
      "Epoch 17/100\n",
      "23/23 [==============================] - 0s 3ms/step - loss: 0.4834 - accuracy: 0.8275 - val_loss: 0.5807 - val_accuracy: 0.7737\n",
      "Epoch 18/100\n",
      "23/23 [==============================] - 0s 3ms/step - loss: 0.4630 - accuracy: 0.8384 - val_loss: 0.5729 - val_accuracy: 0.7809\n",
      "Epoch 19/100\n",
      "23/23 [==============================] - 0s 3ms/step - loss: 0.4432 - accuracy: 0.8456 - val_loss: 0.5657 - val_accuracy: 0.7801\n",
      "Epoch 20/100\n",
      "23/23 [==============================] - 0s 3ms/step - loss: 0.4244 - accuracy: 0.8579 - val_loss: 0.5581 - val_accuracy: 0.7864\n",
      "Epoch 21/100\n",
      "23/23 [==============================] - 0s 3ms/step - loss: 0.4067 - accuracy: 0.8690 - val_loss: 0.5524 - val_accuracy: 0.7903\n",
      "Epoch 22/100\n",
      "23/23 [==============================] - 0s 3ms/step - loss: 0.3894 - accuracy: 0.8752 - val_loss: 0.5480 - val_accuracy: 0.7959\n",
      "Epoch 23/100\n",
      "23/23 [==============================] - 0s 3ms/step - loss: 0.3724 - accuracy: 0.8840 - val_loss: 0.5451 - val_accuracy: 0.7935\n",
      "Epoch 24/100\n",
      "23/23 [==============================] - 0s 2ms/step - loss: 0.3564 - accuracy: 0.8886 - val_loss: 0.5414 - val_accuracy: 0.8006\n",
      "Epoch 25/100\n",
      "23/23 [==============================] - 0s 2ms/step - loss: 0.3415 - accuracy: 0.8956 - val_loss: 0.5398 - val_accuracy: 0.8022\n",
      "Epoch 26/100\n",
      "23/23 [==============================] - 0s 3ms/step - loss: 0.3275 - accuracy: 0.8992 - val_loss: 0.5407 - val_accuracy: 0.8030\n",
      "Epoch 27/100\n",
      "23/23 [==============================] - 0s 3ms/step - loss: 0.3138 - accuracy: 0.9037 - val_loss: 0.5412 - val_accuracy: 0.8062\n",
      "Epoch 28/100\n",
      "23/23 [==============================] - 0s 3ms/step - loss: 0.3030 - accuracy: 0.9052 - val_loss: 0.5449 - val_accuracy: 0.8030\n",
      "Epoch 29/100\n",
      "23/23 [==============================] - 0s 3ms/step - loss: 0.2906 - accuracy: 0.9095 - val_loss: 0.5391 - val_accuracy: 0.8014\n",
      "Epoch 30/100\n",
      "23/23 [==============================] - 0s 2ms/step - loss: 0.2795 - accuracy: 0.9127 - val_loss: 0.5436 - val_accuracy: 0.8022\n",
      "Epoch 31/100\n",
      "23/23 [==============================] - 0s 2ms/step - loss: 0.2695 - accuracy: 0.9172 - val_loss: 0.5480 - val_accuracy: 0.8022\n",
      "Epoch 32/100\n",
      "23/23 [==============================] - 0s 3ms/step - loss: 0.2605 - accuracy: 0.9195 - val_loss: 0.5521 - val_accuracy: 0.8030\n",
      "Epoch 33/100\n",
      "23/23 [==============================] - 0s 3ms/step - loss: 0.2519 - accuracy: 0.9225 - val_loss: 0.5545 - val_accuracy: 0.8054\n",
      "Epoch 34/100\n",
      "23/23 [==============================] - 0s 3ms/step - loss: 0.2434 - accuracy: 0.9240 - val_loss: 0.5549 - val_accuracy: 0.7998\n",
      "Epoch 35/100\n",
      "23/23 [==============================] - 0s 3ms/step - loss: 0.2360 - accuracy: 0.9255 - val_loss: 0.5604 - val_accuracy: 0.7983\n",
      "Epoch 36/100\n",
      "23/23 [==============================] - 0s 3ms/step - loss: 0.2292 - accuracy: 0.9290 - val_loss: 0.5665 - val_accuracy: 0.7975\n",
      "Epoch 37/100\n",
      "23/23 [==============================] - 0s 3ms/step - loss: 0.2226 - accuracy: 0.9298 - val_loss: 0.5708 - val_accuracy: 0.7983\n",
      "Epoch 38/100\n",
      "23/23 [==============================] - 0s 3ms/step - loss: 0.2158 - accuracy: 0.9313 - val_loss: 0.5734 - val_accuracy: 0.7951\n",
      "Epoch 39/100\n",
      "23/23 [==============================] - 0s 3ms/step - loss: 0.2105 - accuracy: 0.9329 - val_loss: 0.5791 - val_accuracy: 0.7943\n",
      "Epoch 40/100\n",
      "23/23 [==============================] - 0s 2ms/step - loss: 0.2046 - accuracy: 0.9354 - val_loss: 0.5851 - val_accuracy: 0.7959\n",
      "Epoch 41/100\n",
      "23/23 [==============================] - 0s 3ms/step - loss: 0.1986 - accuracy: 0.9379 - val_loss: 0.5918 - val_accuracy: 0.7951\n",
      "Epoch 42/100\n",
      "23/23 [==============================] - 0s 3ms/step - loss: 0.1933 - accuracy: 0.9404 - val_loss: 0.5984 - val_accuracy: 0.7935\n",
      "Epoch 43/100\n",
      "23/23 [==============================] - 0s 2ms/step - loss: 0.1885 - accuracy: 0.9414 - val_loss: 0.6045 - val_accuracy: 0.7943\n",
      "Epoch 44/100\n",
      "23/23 [==============================] - 0s 2ms/step - loss: 0.1835 - accuracy: 0.9439 - val_loss: 0.6109 - val_accuracy: 0.7919\n",
      "Epoch 45/100\n",
      "23/23 [==============================] - 0s 3ms/step - loss: 0.1792 - accuracy: 0.9461 - val_loss: 0.6176 - val_accuracy: 0.7927\n",
      "Epoch 46/100\n",
      "23/23 [==============================] - 0s 3ms/step - loss: 0.1749 - accuracy: 0.9479 - val_loss: 0.6288 - val_accuracy: 0.7951\n",
      "Epoch 47/100\n",
      "23/23 [==============================] - 0s 3ms/step - loss: 0.1709 - accuracy: 0.9486 - val_loss: 0.6322 - val_accuracy: 0.7919\n",
      "Epoch 48/100\n",
      "23/23 [==============================] - 0s 3ms/step - loss: 0.1671 - accuracy: 0.9493 - val_loss: 0.6410 - val_accuracy: 0.7935\n",
      "Epoch 49/100\n",
      "23/23 [==============================] - 0s 3ms/step - loss: 0.1639 - accuracy: 0.9504 - val_loss: 0.6451 - val_accuracy: 0.7888\n",
      "Epoch 50/100\n",
      "23/23 [==============================] - 0s 3ms/step - loss: 0.1600 - accuracy: 0.9517 - val_loss: 0.6541 - val_accuracy: 0.7911\n",
      "Epoch 51/100\n",
      "23/23 [==============================] - 0s 2ms/step - loss: 0.1557 - accuracy: 0.9537 - val_loss: 0.6613 - val_accuracy: 0.7888\n",
      "Epoch 52/100\n",
      "23/23 [==============================] - 0s 3ms/step - loss: 0.1524 - accuracy: 0.9546 - val_loss: 0.6702 - val_accuracy: 0.7888\n",
      "Epoch 53/100\n",
      "23/23 [==============================] - 0s 3ms/step - loss: 0.1491 - accuracy: 0.9551 - val_loss: 0.6758 - val_accuracy: 0.7880\n",
      "Epoch 54/100\n",
      "23/23 [==============================] - 0s 3ms/step - loss: 0.1472 - accuracy: 0.9547 - val_loss: 0.6829 - val_accuracy: 0.7864\n",
      "Epoch 55/100\n",
      "23/23 [==============================] - 0s 3ms/step - loss: 0.1431 - accuracy: 0.9562 - val_loss: 0.6932 - val_accuracy: 0.7864\n",
      "Epoch 56/100\n",
      "23/23 [==============================] - 0s 3ms/step - loss: 0.1403 - accuracy: 0.9572 - val_loss: 0.7002 - val_accuracy: 0.7856\n",
      "Epoch 57/100\n",
      "23/23 [==============================] - 0s 3ms/step - loss: 0.1375 - accuracy: 0.9589 - val_loss: 0.7075 - val_accuracy: 0.7856\n",
      "Epoch 58/100\n",
      "23/23 [==============================] - 0s 3ms/step - loss: 0.1349 - accuracy: 0.9593 - val_loss: 0.7186 - val_accuracy: 0.7896\n",
      "Epoch 59/100\n",
      "23/23 [==============================] - 0s 3ms/step - loss: 0.1323 - accuracy: 0.9612 - val_loss: 0.7215 - val_accuracy: 0.7824\n",
      "Epoch 60/100\n",
      "23/23 [==============================] - 0s 3ms/step - loss: 0.1298 - accuracy: 0.9616 - val_loss: 0.7301 - val_accuracy: 0.7832\n",
      "Epoch 61/100\n",
      "23/23 [==============================] - 0s 3ms/step - loss: 0.1271 - accuracy: 0.9625 - val_loss: 0.7390 - val_accuracy: 0.7816\n",
      "Epoch 62/100\n",
      "23/23 [==============================] - 0s 3ms/step - loss: 0.1247 - accuracy: 0.9631 - val_loss: 0.7454 - val_accuracy: 0.7856\n",
      "Epoch 63/100\n",
      "23/23 [==============================] - 0s 2ms/step - loss: 0.1225 - accuracy: 0.9635 - val_loss: 0.7537 - val_accuracy: 0.7848\n",
      "Epoch 64/100\n",
      "23/23 [==============================] - 0s 2ms/step - loss: 0.1205 - accuracy: 0.9646 - val_loss: 0.7662 - val_accuracy: 0.7888\n"
     ]
    }
   ],
   "source": [
    "fitmodel = model.fit(tens_train,t1_train_labels_onehot, epochs=100, batch_size=512, validation_split=0.10,verbose=1,callbacks=[early_stopping])\n"
   ]
  },
  {
   "cell_type": "code",
   "execution_count": 94,
   "id": "57b36eb3-16a3-44ac-b4ac-ec9d52c67662",
   "metadata": {},
   "outputs": [
    {
     "name": "stdout",
     "output_type": "stream",
     "text": [
      "63/63 [==============================] - 0s 571us/step - loss: 0.7680 - accuracy: 0.7735\n"
     ]
    }
   ],
   "source": [
    "#results on self trained\n",
    "results = model.evaluate(tens_test,t1_test_labels_onehot)\n"
   ]
  },
  {
   "cell_type": "code",
   "execution_count": 96,
   "id": "3d539414-1dd7-41cc-b605-acb9fde6b4d5",
   "metadata": {
    "tags": []
   },
   "outputs": [],
   "source": [
    "model.save(path+'model_3way.h5')\n",
    "# model2 = keras.models.load_model('model.h5')"
   ]
  },
  {
   "cell_type": "code",
   "execution_count": 97,
   "id": "d2f72406-da00-466e-aac5-d37322526df8",
   "metadata": {
    "tags": []
   },
   "outputs": [
    {
     "data": {
      "text/plain": [
       "<matplotlib.legend.Legend at 0x1d033a92070>"
      ]
     },
     "execution_count": 97,
     "metadata": {},
     "output_type": "execute_result"
    },
    {
     "data": {
      "image/png": "[encoded data removed]",
      "text/plain": [
       "<Figure size 432x288 with 1 Axes>"
      ]
     },
     "metadata": {
      "needs_background": "light"
     },
     "output_type": "display_data"
    }
   ],
   "source": [
    "#plot accruacy and loss\n",
    "# results2: val_accuracy, val_loss, accuracy,loss\n",
    "plt.plot(fitmodel.history['accuracy'], label ='training accuracy')\n",
    "plt.plot(fitmodel.history['val_accuracy'],label ='testing accuracy')\n",
    "plt.title('Accuracy')\n",
    "plt.xlabel('epochs')\n",
    "plt.ylabel('accuracy')\n",
    "plt.legend()"
   ]
  },
  {
   "cell_type": "code",
   "execution_count": 98,
   "id": "8742fb0a-4219-4ddd-aaa9-d76aa6ab9baa",
   "metadata": {},
   "outputs": [
    {
     "data": {
      "text/plain": [
       "<matplotlib.legend.Legend at 0x1d033b24190>"
      ]
     },
     "execution_count": 98,
     "metadata": {},
     "output_type": "execute_result"
    },
    {
     "data": {
      "image/png": "[encoded data removed]",
      "text/plain": [
       "<Figure size 432x288 with 1 Axes>"
      ]
     },
     "metadata": {
      "needs_background": "light"
     },
     "output_type": "display_data"
    }
   ],
   "source": [
    "plt.plot(fitmodel.history['loss'], label ='training loss')\n",
    "plt.plot(fitmodel.history['val_loss'],label ='testing loss')\n",
    "plt.title('Loss')\n",
    "plt.xlabel('epochs')\n",
    "plt.ylabel('Loss')\n",
    "plt.legend()"
   ]
  },
  {
   "cell_type": "code",
   "execution_count": 99,
   "id": "44bc581f-e5e5-4ca3-a8a4-a2b4b5f9bdfd",
   "metadata": {
    "tags": []
   },
   "outputs": [
    {
     "name": "stdout",
     "output_type": "stream",
     "text": [
      "Review: \n",
      "<START> met with agent all taken care of thx for reply <PAD> <PAD> <PAD> <PAD> <PAD> <PAD> <PAD> <PAD> <PAD> <PAD> <PAD> <PAD> <PAD> <PAD> <PAD> <PAD> <PAD> <PAD> <PAD>\n",
      "<START> met with agent all taken care of thx for reply\n",
      "prediction:  [0. 1. 0.]\n",
      "Actual:  [0 0 1]\n"
     ]
    }
   ],
   "source": [
    "#review a prediction\n",
    "r=50\n",
    "#model\n",
    "test_review = tens_test[r]\n",
    "predict = model.predict([test_review])\n",
    "print(\"Review: \")\n",
    "print(decode_review(test_review))\n",
    "print(decode_review(encoded_test[r]))\n",
    "print(\"prediction: \",str(predict[0].round()))\n",
    "print(\"Actual: \",str(t1_test_labels_onehot[r]))"
   ]
  },
  {
   "cell_type": "code",
   "execution_count": 100,
   "id": "4ca7ce8b-4525-41d0-ad11-fc0225a44b33",
   "metadata": {},
   "outputs": [
    {
     "data": {
      "text/plain": [
       "array([[0, 0, 1],\n",
       "       [1, 0, 0],\n",
       "       [1, 0, 0],\n",
       "       ...,\n",
       "       [0, 0, 1],\n",
       "       [0, 0, 1],\n",
       "       [1, 0, 0]], dtype=uint8)"
      ]
     },
     "execution_count": 100,
     "metadata": {},
     "output_type": "execute_result"
    }
   ],
   "source": [
    "#anova\n",
    "t1_train_labels_onehot"
   ]
  },
  {
   "cell_type": "code",
   "execution_count": 101,
   "id": "396b9f6c-4a84-4a0c-8504-a6b827ca1735",
   "metadata": {},
   "outputs": [
    {
     "data": {
      "text/plain": [
       "array([[1, 0, 0],\n",
       "       [1, 0, 0],\n",
       "       [1, 0, 0],\n",
       "       ...,\n",
       "       [1, 0, 0],\n",
       "       [0, 1, 0],\n",
       "       [1, 0, 0]], dtype=uint8)"
      ]
     },
     "execution_count": 101,
     "metadata": {},
     "output_type": "execute_result"
    }
   ],
   "source": [
    "t1_test_labels_onehot"
   ]
  },
  {
   "cell_type": "code",
   "execution_count": 102,
   "id": "53532cee-a50a-400b-8f8d-44d703ffa336",
   "metadata": {},
   "outputs": [],
   "source": [
    "predict = model.predict(tens_test)"
   ]
  },
  {
   "cell_type": "code",
   "execution_count": 103,
   "id": "7ff3afd5-fc45-4a01-ae74-2f64b53d7bf1",
   "metadata": {},
   "outputs": [
    {
     "name": "stdout",
     "output_type": "stream",
     "text": [
      "[1. 0. 0.] [1 0 0]\n"
     ]
    }
   ],
   "source": [
    "# len(predict)\n",
    "print(predict[0].round(),t1_test_labels_onehot[0])"
   ]
  },
  {
   "cell_type": "code",
   "execution_count": 104,
   "id": "e5b8ad73-2cf8-4e28-81e5-bbd8efd056d8",
   "metadata": {},
   "outputs": [],
   "source": [
    "t1_p_labels_onehot = predict"
   ]
  },
  {
   "cell_type": "code",
   "execution_count": 105,
   "id": "48dc0bba-162e-4db2-821e-ed6e21eae27f",
   "metadata": {},
   "outputs": [
    {
     "data": {
      "text/plain": [
       "F_onewayResult(statistic=array([0.21644549, 0.5178301 , 3.4761621 ]), pvalue=array([0.64178706, 0.47181083, 0.0623322 ]))"
      ]
     },
     "execution_count": 105,
     "metadata": {},
     "output_type": "execute_result"
    }
   ],
   "source": [
    "#with rounded values\n",
    "stats.f_oneway(t1_test_labels_onehot,t1_p_labels_onehot.round())"
   ]
  },
  {
   "cell_type": "code",
   "execution_count": 106,
   "id": "a9a8c447-5656-4d3c-acfa-356dc8f94619",
   "metadata": {},
   "outputs": [],
   "source": [
    "predicted_labels = np.argmax(predict.round(),axis=1)\n",
    "actual_labels = np.argmax(t1_test_labels_onehot,axis=1)"
   ]
  },
  {
   "cell_type": "code",
   "execution_count": 107,
   "id": "b6ef3670-748f-45d4-8f0e-0a4330d4b889",
   "metadata": {},
   "outputs": [
    {
     "data": {
      "text/plain": [
       "2000"
      ]
     },
     "execution_count": 107,
     "metadata": {},
     "output_type": "execute_result"
    }
   ],
   "source": [
    "len(actual_labels)"
   ]
  },
  {
   "cell_type": "code",
   "execution_count": 108,
   "id": "3d644dfb-d984-4d61-b02e-1ec24772eee6",
   "metadata": {},
   "outputs": [],
   "source": [
    "from sklearn.metrics import classification_report, accuracy_score"
   ]
  },
  {
   "cell_type": "code",
   "execution_count": 109,
   "id": "c57a818e-90db-4467-8ccb-44d760ca0cbb",
   "metadata": {},
   "outputs": [
    {
     "name": "stdout",
     "output_type": "stream",
     "text": [
      "accuracy 0.774\n"
     ]
    }
   ],
   "source": [
    "print('accuracy',accuracy_score(actual_labels,predicted_labels))"
   ]
  },
  {
   "cell_type": "code",
   "execution_count": 110,
   "id": "2e3b3afa-c537-419b-97f8-81ba0c97f39b",
   "metadata": {},
   "outputs": [
    {
     "name": "stdout",
     "output_type": "stream",
     "text": [
      "              precision    recall  f1-score   support\n",
      "\n",
      "           0       0.84      0.88      0.86      1301\n",
      "           1       0.57      0.54      0.56       397\n",
      "           2       0.73      0.63      0.68       302\n",
      "\n",
      "    accuracy                           0.77      2000\n",
      "   macro avg       0.71      0.68      0.70      2000\n",
      "weighted avg       0.77      0.77      0.77      2000\n",
      "\n"
     ]
    }
   ],
   "source": [
    "print(classification_report(actual_labels,predicted_labels))"
   ]
  },
  {
   "cell_type": "code",
   "execution_count": 111,
   "id": "5d39e2ff-d48c-453a-aa74-1b21bbbda830",
   "metadata": {},
   "outputs": [
    {
     "data": {
      "text/html": [
       "<div>\n",
       "<style scoped>\n",
       "    .dataframe tbody tr th:only-of-type {\n",
       "        vertical-align: middle;\n",
       "    }\n",
       "\n",
       "    .dataframe tbody tr th {\n",
       "        vertical-align: top;\n",
       "    }\n",
       "\n",
       "    .dataframe thead th {\n",
       "        text-align: right;\n",
       "    }\n",
       "</style>\n",
       "<table border=\"1\" class=\"dataframe\">\n",
       "  <thead>\n",
       "    <tr style=\"text-align: right;\">\n",
       "      <th>col_0</th>\n",
       "      <th>0</th>\n",
       "      <th>1</th>\n",
       "      <th>2</th>\n",
       "    </tr>\n",
       "    <tr>\n",
       "      <th>row_0</th>\n",
       "      <th></th>\n",
       "      <th></th>\n",
       "      <th></th>\n",
       "    </tr>\n",
       "  </thead>\n",
       "  <tbody>\n",
       "    <tr>\n",
       "      <th>0</th>\n",
       "      <td>1141</td>\n",
       "      <td>150</td>\n",
       "      <td>69</td>\n",
       "    </tr>\n",
       "    <tr>\n",
       "      <th>1</th>\n",
       "      <td>121</td>\n",
       "      <td>216</td>\n",
       "      <td>42</td>\n",
       "    </tr>\n",
       "    <tr>\n",
       "      <th>2</th>\n",
       "      <td>39</td>\n",
       "      <td>31</td>\n",
       "      <td>191</td>\n",
       "    </tr>\n",
       "  </tbody>\n",
       "</table>\n",
       "</div>"
      ],
      "text/plain": [
       "col_0     0    1    2\n",
       "row_0                \n",
       "0      1141  150   69\n",
       "1       121  216   42\n",
       "2        39   31  191"
      ]
     },
     "execution_count": 111,
     "metadata": {},
     "output_type": "execute_result"
    }
   ],
   "source": [
    "pd.crosstab(predicted_labels,actual_labels)"
   ]
  },
  {
   "cell_type": "code",
   "execution_count": null,
   "id": "c07456c6-52ba-49c1-b989-9ac8a71d7631",
   "metadata": {},
   "outputs": [],
   "source": []
  }
 ],
 "metadata": {
  "kernelspec": {
   "display_name": "Python 3 (ipykernel)",
   "language": "python",
   "name": "python3"
  },
  "language_info": {
   "codemirror_mode": {
    "name": "ipython",
    "version": 3
   },
   "file_extension": ".py",
   "mimetype": "text/x-python",
   "name": "python",
   "nbconvert_exporter": "python",
   "pygments_lexer": "ipython3",
   "version": "3.8.12"
  }
 },
 "nbformat": 4,
 "nbformat_minor": 5
}
